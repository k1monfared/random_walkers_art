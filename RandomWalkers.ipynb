{
 "cells": [
  {
   "cell_type": "markdown",
   "metadata": {},
   "source": [
    "Let a whole bunch of random walkers walk around the plane "
   ]
  },
  {
   "cell_type": "code",
   "execution_count": 55,
   "metadata": {},
   "outputs": [],
   "source": [
    "# This is based on a work by Vedran Sekara \n",
    "# Source: https://vedransekara.github.io/2017/11/29/random_walkers.html\n",
    "# Edited by Keivan Hassani Monfared, k1monfared@gmail.com"
   ]
  },
  {
   "cell_type": "code",
   "execution_count": 54,
   "metadata": {
    "scrolled": true
   },
   "outputs": [],
   "source": [
    "import matplotlib.pyplot as plt\n",
    "import numpy as np\n",
    "import imageio # to make a gif\n",
    "\n",
    "# define some parameters\n",
    "steps = 10000 # number of steps that the walkers take\n",
    "walkers = 100 # number of random walkers\n",
    "\n",
    "# define plot limits\n",
    "lim = 30\n",
    "\n",
    "# preallocate the x and y coordinate of them\n",
    "x = np.zeros((steps,walkers)) \n",
    "y = np.zeros((steps,walkers))\n",
    "\n",
    "# randomize the initial position of each walker\n",
    "# if you want all of them to start at te same position just comment out these 3 lines\n",
    "concentration = lim/2\n",
    "x[0,:] = 2*np.random.rand(walkers)*concentration - concentration\n",
    "y[0,:] = 2*np.random.rand(walkers)*concentration - concentration\n",
    "\n",
    "\n",
    "# define colors - give each walker its own colors\n",
    "colors = plt.cm.gist_ncar(np.linspace(0,1,walkers))\n",
    "\n",
    "# initial angle for each walker\n",
    "angle = np.random.rand(walkers)*2*np.pi\n",
    "\n",
    "# go through steps\n",
    "for step in range(1,steps):\n",
    "    # pick direction \n",
    "    w = 1 # depending on how \"wild\" you want the angles \n",
    "          # to change pick a larger or smaller w. A smaller\n",
    "          # w makes the paths smoother\n",
    "    angle = angle + np.random.rand(walkers)*w*np.pi\n",
    "    # if you want a completely random angle at each step comment out\n",
    "    # the above two lines and use this:\n",
    "    # angle = np.random.rand(walkers)*2*np.pi\n",
    "    \n",
    "    # pick step length \n",
    "    length = np.random.rand(walkers)\n",
    "    #length = np.random.exponential(size=walkers)\n",
    "    #length = np.random.poisson(lam=2,size=walkers)\n",
    "    #length = np.random.power(a=3,size=walkers)\n",
    "\n",
    "    # update position\n",
    "    x[step] = x[step-1,:]+np.cos(angle)*length\n",
    "    y[step] = y[step-1,:]+np.sin(angle)*length\n",
    "\n",
    "    # plot each step. If you want just the final stage, unindent the rest of the code\n",
    "    plt.figure(figsize=(10,10))\n",
    "    for walker in range(walkers):\n",
    "        plt.plot(x[:step,walker],y[:step,walker],alpha=.3,color=colors[walker],lw=2)\n",
    "\n",
    "    plt.xlim(-lim,lim)\n",
    "    plt.ylim(-lim,lim)\n",
    "\n",
    "    plt.axis('off')\n",
    "    plt.savefig('%s_random_walker_%04d.png' %(steps,step),dpi=100,facecolor='black',bbox_inches='tight',pad=0)\n",
    "    plt.close()"
   ]
  },
  {
   "cell_type": "code",
   "execution_count": 53,
   "metadata": {
    "scrolled": true
   },
   "outputs": [],
   "source": [
    "# make a gif file \n",
    "with imageio.get_writer('movie.gif', mode='I', duration=0.0001) as writer:\n",
    "    for step in range(1,steps,1):\n",
    "        filename = '%s_random_walker_%04d.png' %(steps,step)\n",
    "        image = imageio.imread(filename)\n",
    "        writer.append_data(image)"
   ]
  }
 ],
 "metadata": {
  "kernelspec": {
   "display_name": "Python 3",
   "language": "python",
   "name": "python3"
  },
  "language_info": {
   "codemirror_mode": {
    "name": "ipython",
    "version": 3
   },
   "file_extension": ".py",
   "mimetype": "text/x-python",
   "name": "python",
   "nbconvert_exporter": "python",
   "pygments_lexer": "ipython3",
   "version": "3.6.5"
  }
 },
 "nbformat": 4,
 "nbformat_minor": 2
}
